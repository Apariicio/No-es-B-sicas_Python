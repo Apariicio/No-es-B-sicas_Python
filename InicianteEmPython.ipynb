{
  "cells": [
    {
      "cell_type": "markdown",
      "metadata": {
        "id": "view-in-github",
        "colab_type": "text"
      },
      "source": [
        "<a href=\"https://colab.research.google.com/github/Apariicio/No-es-B-sicas_Python/blob/main/InicianteEmPython.ipynb\" target=\"_parent\"><img src=\"https://colab.research.google.com/assets/colab-badge.svg\" alt=\"Open In Colab\"/></a>"
      ]
    },
    {
      "cell_type": "markdown",
      "metadata": {
        "id": "GJBs_flRovLc"
      },
      "source": [
        "<div class=\"markdown-google-sans\">\n",
        "\n",
        "## <strong>Vamos começar</strong>\n",
        "</div>\n",
        "\n",
        "O documento que você está lendo não é uma página da Web estática, mas sim um ambiente interativo chamado <strong>notebook Colab</strong> que permite escrever e executar código.\n",
        "\n",
        "Por exemplo, aqui está uma <strong>célula de código</strong> com um breve script Python que calcula um valor, armazena-o em uma variável e imprime o resultado:"
      ]
    },
    {
      "cell_type": "code",
      "execution_count": 14,
      "metadata": {
        "colab": {
          "base_uri": "https://localhost:8080/"
        },
        "id": "gJr_9dXGpJ05",
        "outputId": "ee1ef3fc-f351-4b1e-dc39-d31699a0d6a0"
      },
      "outputs": [
        {
          "output_type": "stream",
          "name": "stdout",
          "text": [
            "Calcule a area do trapezio\n",
            "\n",
            "valor da altura: 5\n",
            "valor da abse de cima: 4\n",
            "valor da base de baixo: 7\n",
            "O valor da area do trapezio é 27.500000\n"
          ]
        }
      ],
      "source": [
        "'''print(\"Calcule de massa corporal IMC\\n\")\n",
        "peso = input(\"Insira seu peso em kg: \")\n",
        "altura = input(\"Insira sua altura em metros: \")\n",
        "\n",
        "imc = int(peso) / (float(altura) ** 2\n",
        "\n",
        "print (\"Seu imc é : %f\" %imc)'''\n",
        "\n",
        "'''import math\n",
        "print(\"Calcule a area da hipotenusa\\n\")\n",
        "quadrado1 = input(\"Insira o valor do quadrado 1: \")\n",
        "quadrado2 = input(\"Insira o valor do quadrado 2: \")\n",
        "\n",
        "soma = int(quadrado1) ** 2 + int(quadrado2) ** 2\n",
        "\n",
        "hipotenusa = math.sqrt(soma)\n",
        "\n",
        "print (\"A area da hipotenusa é: %f\" %hipotenusa)'''\n",
        "\n",
        "'''print(\"Calcule a area do trapezio\\n\")\n",
        "altura = input(\"valor da altura: \")\n",
        "baseCima = input(\"valor da abse de cima: \")\n",
        "baseBaixo = input(\"valor da base de baixo: \")\n",
        "\n",
        "area = (int(baseBaixo) + int(baseCima)) * int(altura) / 2\n",
        "\n",
        "print(\"O valor da area do trapezio é %f\" %area)'''"
      ]
    }
  ],
  "metadata": {
    "colab": {
      "name": "Olá, este é o Colaboratory",
      "toc_visible": true,
      "provenance": [],
      "include_colab_link": true
    },
    "kernelspec": {
      "display_name": "Python 3",
      "name": "python3"
    }
  },
  "nbformat": 4,
  "nbformat_minor": 0
}